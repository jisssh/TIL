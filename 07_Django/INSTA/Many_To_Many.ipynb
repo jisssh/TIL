{
 "cells": [
  {
   "cell_type": "markdown",
   "metadata": {},
   "source": [
    "# Many To Many Relation\n",
    "\n",
    "## Student\n",
    "\n",
    "| id (pk) |   name    |\n",
    "| :-----: | :-------: |\n",
    "|   INT   | CharField |\n",
    "\n",
    "## Enrollment\n",
    "\n",
    "| id (pk) | stuent_id (fk - student) | lecture_id (Fk - lecture) |\n",
    "| :-----: | :----------------------: | ------------------------- |\n",
    "|   INT   |           INT            | INT                       |\n",
    "\n",
    "## Lecture\n",
    "\n",
    "|   id   |   title   |\n",
    "| :----: | :-------: |\n",
    "| PK_INT | CharField |"
   ]
  },
  {
   "cell_type": "code",
   "execution_count": null,
   "metadata": {},
   "outputs": [],
   "source": [
    "# Student.objects.create(name='지상현')\n",
    "# Student.objects.create(name='윤지녕')\n",
    "# Student.objects.create(name='곽동령')\n",
    "# Student.objects.create(name='이유림')"
   ]
  },
  {
   "cell_type": "code",
   "execution_count": null,
   "metadata": {},
   "outputs": [],
   "source": [
    "# Lecture.objects.create(title='컴퓨터 운영체제')\n",
    "# Lecture.objects.create(title='HTTP 와 네트워크')\n",
    "# Lecture.objects.create(title='Django')\n",
    "# Lecture.objects.create(title='Python')"
   ]
  },
  {
   "cell_type": "code",
   "execution_count": null,
   "metadata": {},
   "outputs": [],
   "source": [
    "# Enrolment.objects.create(student_id=1, lecture_id=1)\n",
    "# Enrolment.objects.create(student_id=2, lecture_id=2)\n",
    "# Enrolment.objects.create(student_id=3, lecture_id=1)\n",
    "# Enrolment.objects.create(student_id=1, lecture_id=2)\n",
    "# Enrolment.objects.create(student_id=4, lecture_id=2)\n",
    "# Enrolment.objects.create(student_id=2, lecture_id=1)\n",
    "# Enrolment.objects.create(student_id=1, lecture_id=3)\n",
    "# Enrolment.objects.create(student_id=1, lecture_id=4)"
   ]
  },
  {
   "cell_type": "code",
   "execution_count": 5,
   "metadata": {},
   "outputs": [
    {
     "data": {
      "text/plain": [
       "'지상현'"
      ]
     },
     "execution_count": 5,
     "metadata": {},
     "output_type": "execute_result"
    }
   ],
   "source": [
    "Enrolment.objects.get(id=1).student.name"
   ]
  },
  {
   "cell_type": "code",
   "execution_count": 6,
   "metadata": {},
   "outputs": [
    {
     "data": {
      "text/plain": [
       "<Enrolment: 지상현:컴퓨터 운영체제>"
      ]
     },
     "execution_count": 6,
     "metadata": {},
     "output_type": "execute_result"
    }
   ],
   "source": [
    "Enrolment.objects.get(id=1)"
   ]
  },
  {
   "cell_type": "code",
   "execution_count": 7,
   "metadata": {},
   "outputs": [
    {
     "data": {
      "text/plain": [
       "'컴퓨터 운영체제'"
      ]
     },
     "execution_count": 7,
     "metadata": {},
     "output_type": "execute_result"
    }
   ],
   "source": [
    "지상현 = Student.objects.first()\n",
    "수강신청1 = 지상현.enrolment_set.first()\n",
    "수강신청2 = 지상현.enrolment_set.last()\n",
    "\n",
    "수강신청1.lecture.title"
   ]
  },
  {
   "cell_type": "code",
   "execution_count": 8,
   "metadata": {},
   "outputs": [
    {
     "data": {
      "text/plain": [
       "<Student: 1:지상현>"
      ]
     },
     "execution_count": 8,
     "metadata": {},
     "output_type": "execute_result"
    }
   ],
   "source": [
    "지상현"
   ]
  },
  {
   "cell_type": "code",
   "execution_count": 9,
   "metadata": {},
   "outputs": [
    {
     "data": {
      "text/plain": [
       "<Enrolment: 지상현:컴퓨터 운영체제>"
      ]
     },
     "execution_count": 9,
     "metadata": {},
     "output_type": "execute_result"
    }
   ],
   "source": [
    "지상현.enrolment_set.first()"
   ]
  },
  {
   "cell_type": "code",
   "execution_count": 10,
   "metadata": {},
   "outputs": [
    {
     "data": {
      "text/plain": [
       "<Student: 1:지상현>"
      ]
     },
     "execution_count": 10,
     "metadata": {},
     "output_type": "execute_result"
    }
   ],
   "source": [
    "# 수업 여러개 듣는 사람 한명을 student 에 저장합니다.\n",
    "student = Student.objects.get(id=1)\n",
    "student"
   ]
  },
  {
   "cell_type": "code",
   "execution_count": 11,
   "metadata": {},
   "outputs": [
    {
     "name": "stdout",
     "output_type": "stream",
     "text": [
      "컴퓨터 운영체제\n",
      "HTTP 와 네트워크\n",
      "Django\n",
      "Python\n"
     ]
    }
   ],
   "source": [
    "# student 의 수업들 제목을 출력하는 for 문을 작성해보세요\n",
    "수업들 = student.enrolment_set.all()\n",
    "수업들\n",
    "for c in 수업들:\n",
    "    print(c.lecture.title)"
   ]
  },
  {
   "cell_type": "code",
   "execution_count": 12,
   "metadata": {},
   "outputs": [
    {
     "name": "stdout",
     "output_type": "stream",
     "text": [
      "컴퓨터 운영체제\n",
      "HTTP 와 네트워크\n"
     ]
    }
   ],
   "source": [
    "# student 의 수업들 중 제목이 n 글자 넘는 수업의 제목을 출력\n",
    "for c in 수업들:\n",
    "    if len(c.lecture.title) > 7:\n",
    "        print(c.lecture.title)"
   ]
  },
  {
   "cell_type": "code",
   "execution_count": 13,
   "metadata": {},
   "outputs": [],
   "source": [
    "# Lectures.students => 수업 듣는 모든 학생들\n",
    "# students.Lectures => 학생 듣는 모든 수업들"
   ]
  },
  {
   "cell_type": "code",
   "execution_count": 49,
   "metadata": {},
   "outputs": [
    {
     "data": {
      "text/plain": [
       "<QuerySet [<Client: Client object (1)>, <Client: Client object (5)>, <Client: Client object (10)>]>"
      ]
     },
     "execution_count": 49,
     "metadata": {},
     "output_type": "execute_result"
    }
   ],
   "source": [
    "# Hotel.dummy(1)\n",
    "new_hotel = Hotel.objects.last()\n",
    "# new_hotel.clients.add(\n",
    "#     Client.objects.get(id=1),\n",
    "#     Client.objects.get(id=5),\n",
    "#     Client.objects.get(id=10)\n",
    "# )\n",
    "new_hotel.clients.all()\n",
    "# new_hotel.id"
   ]
  },
  {
   "cell_type": "code",
   "execution_count": 5,
   "metadata": {},
   "outputs": [],
   "source": [
    "# Client.dummy(1)\n",
    "# Client.objects.last().hotel_set.count()\n",
    "client = Client.objects.get(id=10)\n",
    "\n",
    "# client.hotel_set.all()"
   ]
  },
  {
   "cell_type": "code",
   "execution_count": 51,
   "metadata": {},
   "outputs": [],
   "source": [
    "client.hotel_set.add(\n",
    "    Hotel.objects.get(id=1),\n",
    "    Hotel.objects.get(id=5),\n",
    ")"
   ]
  },
  {
   "cell_type": "code",
   "execution_count": 6,
   "metadata": {},
   "outputs": [
    {
     "data": {
      "text/plain": [
       "<QuerySet [{'name': 'Tran, Moran and Townsend'}, {'name': 'Baker-Martinez'}, {'name': 'Dunn Ltd'}]>"
      ]
     },
     "execution_count": 6,
     "metadata": {},
     "output_type": "execute_result"
    }
   ],
   "source": [
    "client.hotels.values('name')"
   ]
  },
  {
   "cell_type": "code",
   "execution_count": null,
   "metadata": {},
   "outputs": [],
   "source": []
  },
  {
   "cell_type": "code",
   "execution_count": null,
   "metadata": {},
   "outputs": [],
   "source": []
  },
  {
   "cell_type": "code",
   "execution_count": null,
   "metadata": {},
   "outputs": [],
   "source": []
  },
  {
   "cell_type": "code",
   "execution_count": null,
   "metadata": {},
   "outputs": [],
   "source": []
  },
  {
   "cell_type": "code",
   "execution_count": null,
   "metadata": {},
   "outputs": [],
   "source": []
  },
  {
   "cell_type": "code",
   "execution_count": null,
   "metadata": {},
   "outputs": [],
   "source": []
  }
 ],
 "metadata": {
  "kernelspec": {
   "display_name": "Django Shell-Plus",
   "language": "python",
   "name": "django_extensions"
  },
  "language_info": {
   "codemirror_mode": {
    "name": "ipython",
    "version": 3
   },
   "file_extension": ".py",
   "mimetype": "text/x-python",
   "name": "python",
   "nbconvert_exporter": "python",
   "pygments_lexer": "ipython3",
   "version": "3.7.2"
  }
 },
 "nbformat": 4,
 "nbformat_minor": 2
}
