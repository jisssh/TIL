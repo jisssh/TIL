{
 "cells": [
  {
   "cell_type": "markdown",
   "metadata": {},
   "source": [
    "# OneToMany model - 2\n",
    "\n",
    "## Writer\n",
    "\n",
    "|   id   |   NAME    |\n",
    "| :----: | :-------: |\n",
    "| PK.INT | CharField |\n",
    "\n",
    "## Book\n",
    "\n",
    "| id (PK) | author_id (FK - writer) |   title   | description |\n",
    "| :-----: | :---------------------: | :-------: | ----------- |\n",
    "|   INT   |           INT           | CharField | TextField   |\n",
    "\n",
    "\n",
    "\n",
    "## Chapter\n",
    "\n",
    "| id (pk) | book_id (fk-book) |   title   | description |\n",
    "| :-----: | :---------------: | :-------: | ----------- |\n",
    "|   INT   |        INT        | CharField | TextField   |\n",
    "\n"
   ]
  },
  {
   "cell_type": "code",
   "execution_count": 1,
   "metadata": {},
   "outputs": [
    {
     "data": {
      "text/plain": [
       "<Writer: Writer object (2)>"
      ]
     },
     "execution_count": 1,
     "metadata": {},
     "output_type": "execute_result"
    }
   ],
   "source": [
    "# Writer 객체 생성\n",
    "Writer.objects.create(name='이선 브라운')"
   ]
  },
  {
   "cell_type": "code",
   "execution_count": 3,
   "metadata": {},
   "outputs": [
    {
     "data": {
      "text/plain": [
       "<Book: Book object (3)>"
      ]
     },
     "execution_count": 3,
     "metadata": {},
     "output_type": "execute_result"
    }
   ],
   "source": [
    "# Book 객체 생성\n",
    "Book.objects.create(author = Writer.objects.get(name='이선 브라운'), \n",
    "                    title='러닝 자바스크립트', \n",
    "                    description='ES6로 제대로 입문하는 모던 자바스크립트 웹 개발')"
   ]
  },
  {
   "cell_type": "code",
   "execution_count": 4,
   "metadata": {},
   "outputs": [
    {
     "data": {
      "text/plain": [
       "<Book: Book object (4)>"
      ]
     },
     "execution_count": 4,
     "metadata": {},
     "output_type": "execute_result"
    }
   ],
   "source": [
    "# Book 객체 생성\n",
    "Book.objects.create(author = Writer.objects.get(name='이선 브라운'), \n",
    "                    title='러닝 파이썬', \n",
    "                    description='Python37로 제대로 입문하는 모던 Python 개발')"
   ]
  },
  {
   "cell_type": "code",
   "execution_count": 6,
   "metadata": {},
   "outputs": [
    {
     "data": {
      "text/plain": [
       "<Chapter: Chapter object (4)>"
      ]
     },
     "execution_count": 6,
     "metadata": {},
     "output_type": "execute_result"
    }
   ],
   "source": [
    "# Chapter 객체 생성\n",
    "Chapter.objects.create(book=Book.objects.get(id=3),\n",
    "                      title='First App',\n",
    "                       description='시작은 브라우저에서')\n",
    "\n",
    "Chapter.objects.create(book=Book.objects.get(id=3),\n",
    "                      title='개발도구',\n",
    "                       description='트랜스 컴파일러')\n",
    "\n",
    "Chapter.objects.create(book=Book.objects.get(id=3),\n",
    "                      title='Python 기초 문법',\n",
    "                       description='변수, 문자열, 숫자, 참/거짓')\n",
    "Chapter.objects.create(book=Book.objects.get(id=3),\n",
    "                      title='Python 자료구조',\n",
    "                       description='리스트, 딕셔너리, 튜플, 세트')\n",
    "                       "
   ]
  },
  {
   "cell_type": "code",
   "execution_count": null,
   "metadata": {},
   "outputs": [],
   "source": [
    "# 파이썬 배우고 싶다. 딕셔너리를 찾아볼까?\n",
    "\n",
    "# 딕셔너리 라는 챕터 설명이 있는. 책들의 1번. 저자가. 쓴 모든 책"
   ]
  },
  {
   "cell_type": "code",
   "execution_count": 9,
   "metadata": {},
   "outputs": [
    {
     "ename": "AttributeError",
     "evalue": "'QuerySet' object has no attribute 'author'",
     "output_type": "error",
     "traceback": [
      "\u001b[0;31m---------------------------------------------------------------------------\u001b[0m",
      "\u001b[0;31mAttributeError\u001b[0m                            Traceback (most recent call last)",
      "\u001b[0;32m<ipython-input-9-b3162cd462ca>\u001b[0m in \u001b[0;36m<module>\u001b[0;34m\u001b[0m\n\u001b[0;32m----> 1\u001b[0;31m \u001b[0mBook\u001b[0m\u001b[0;34m.\u001b[0m\u001b[0mobjects\u001b[0m\u001b[0;34m.\u001b[0m\u001b[0mget\u001b[0m\u001b[0;34m(\u001b[0m\u001b[0mauthor\u001b[0m\u001b[0;34m=\u001b[0m\u001b[0mBook\u001b[0m\u001b[0;34m.\u001b[0m\u001b[0mobjects\u001b[0m\u001b[0;34m.\u001b[0m\u001b[0mget\u001b[0m\u001b[0;34m(\u001b[0m\u001b[0mauthor\u001b[0m\u001b[0;34m=\u001b[0m\u001b[0mChapter\u001b[0m\u001b[0;34m.\u001b[0m\u001b[0mobjects\u001b[0m\u001b[0;34m.\u001b[0m\u001b[0mfilter\u001b[0m\u001b[0;34m(\u001b[0m\u001b[0mdescription__contains\u001b[0m\u001b[0;34m=\u001b[0m\u001b[0;34m'딕셔너리'\u001b[0m\u001b[0;34m)\u001b[0m\u001b[0;34m.\u001b[0m\u001b[0mauthor\u001b[0m\u001b[0;34m)\u001b[0m\u001b[0;34m)\u001b[0m\u001b[0;34m\u001b[0m\u001b[0;34m\u001b[0m\u001b[0m\n\u001b[0m",
      "\u001b[0;31mAttributeError\u001b[0m: 'QuerySet' object has no attribute 'author'"
     ]
    }
   ],
   "source": [
    "Book.objects.get(author=Book.objects.get(author=Chapter.objects.filter(description__contains='딕셔너리').author))"
   ]
  },
  {
   "cell_type": "code",
   "execution_count": 100,
   "metadata": {},
   "outputs": [
    {
     "data": {
      "text/plain": [
       "<QuerySet [<Book: Book object (3)>, <Book: Book object (4)>]>"
      ]
     },
     "execution_count": 100,
     "metadata": {},
     "output_type": "execute_result"
    }
   ],
   "source": [
    "Writer.objects.get(name=Book.objects.get(id=Chapter.objects.get(description__contains='딕셔너리').book.id).author.name).book_set.all()"
   ]
  },
  {
   "cell_type": "code",
   "execution_count": 81,
   "metadata": {},
   "outputs": [
    {
     "data": {
      "text/plain": [
       "<QuerySet [<Book: Book object (3)>, <Book: Book object (4)>]>"
      ]
     },
     "execution_count": 81,
     "metadata": {},
     "output_type": "execute_result"
    }
   ],
   "source": [
    "Chapter.objects.filter(description__contains='딕셔너리')[0].book.author.book_set.all()"
   ]
  },
  {
   "cell_type": "code",
   "execution_count": 101,
   "metadata": {},
   "outputs": [
    {
     "name": "stdout",
     "output_type": "stream",
     "text": [
      "SELECT \"onetomany_book\".\"id\", \"onetomany_book\".\"created\", \"onetomany_book\".\"modified\", \"onetomany_book\".\"author_id\", \"onetomany_book\".\"title\", \"onetomany_book\".\"description\" FROM \"onetomany_book\" WHERE \"onetomany_book\".\"author_id\" = 2\n"
     ]
    }
   ],
   "source": [
    "ORMquery = Chapter.objects.filter(description__contains='딕셔너리')[0].book.author.book_set.all()\n",
    "print(ORMquery.query)"
   ]
  },
  {
   "cell_type": "code",
   "execution_count": 82,
   "metadata": {},
   "outputs": [
    {
     "data": {
      "text/plain": [
       "<QuerySet [<Book: Book object (3)>, <Book: Book object (4)>]>"
      ]
     },
     "execution_count": 82,
     "metadata": {},
     "output_type": "execute_result"
    }
   ],
   "source": [
    "# 책들 중, DB 에 2019 년에 등록된 모든 책들 중에서 OFFSET 2, LIMIT 3\n",
    "Book.objects.all().filter(created__year=2019)[2:2+3]"
   ]
  },
  {
   "cell_type": "code",
   "execution_count": 85,
   "metadata": {},
   "outputs": [
    {
     "data": {
      "text/plain": [
       "<QuerySet [<Book: Book object (3)>, <Book: Book object (4)>]>"
      ]
     },
     "execution_count": 85,
     "metadata": {},
     "output_type": "execute_result"
    }
   ],
   "source": [
    "# 책들 중, DB 에 2018 년 이후에 등록된 모든 책들 중에서 OFFSET 2, LIMIT 3\n",
    "Book.objects.all().filter(created__year__gt=2018)[2:2+3]"
   ]
  },
  {
   "cell_type": "code",
   "execution_count": 96,
   "metadata": {},
   "outputs": [
    {
     "name": "stdout",
     "output_type": "stream",
     "text": [
      "SELECT \"onetomany_book\".\"id\", \"onetomany_book\".\"created\", \"onetomany_book\".\"modified\", \"onetomany_book\".\"author_id\", \"onetomany_book\".\"title\", \"onetomany_book\".\"description\" FROM \"onetomany_book\"  LIMIT 2 OFFSET 1\n"
     ]
    }
   ],
   "source": [
    "print(Book.objects.all()[1:3].query)"
   ]
  },
  {
   "cell_type": "code",
   "execution_count": null,
   "metadata": {},
   "outputs": [],
   "source": []
  }
 ],
 "metadata": {
  "kernelspec": {
   "display_name": "Django Shell-Plus",
   "language": "python",
   "name": "django_extensions"
  },
  "language_info": {
   "codemirror_mode": {
    "name": "ipython",
    "version": 3
   },
   "file_extension": ".py",
   "mimetype": "text/x-python",
   "name": "python",
   "nbconvert_exporter": "python",
   "pygments_lexer": "ipython3",
   "version": "3.7.2"
  }
 },
 "nbformat": 4,
 "nbformat_minor": 2
}
