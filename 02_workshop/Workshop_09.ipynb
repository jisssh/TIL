{
 "cells": [
  {
   "cell_type": "markdown",
   "metadata": {},
   "source": [
    "## HTML"
   ]
  },
  {
   "cell_type": "markdown",
   "metadata": {},
   "source": [
    "**클릭하면 https://www.ssafy.com/ 로 이동하는 버튼을 만드시오.**"
   ]
  },
  {
   "cell_type": "code",
   "execution_count": null,
   "metadata": {},
   "outputs": [],
   "source": [
    "  <a href=\"https://www.ssafy.com/\" alt=\"SSAFY\"><input type=\"button\" value=\"SSAFY\"></a>"
   ]
  },
  {
   "cell_type": "markdown",
   "metadata": {},
   "source": [
    " <a href=\"https://www.ssafy.com/\" alt=\"SSAFY\"><input type=\"button\" value=\"SSAFY\"></a>"
   ]
  },
  {
   "cell_type": "markdown",
   "metadata": {},
   "source": [
    "**다음 태그에서 잘못된 부분을 찾으시오.**\n",
    "\n",
    "`<img href=\"https://www.goolgle.com/\" alt=\"GOOGLE\">`"
   ]
  },
  {
   "cell_type": "code",
   "execution_count": null,
   "metadata": {},
   "outputs": [],
   "source": [
    "이미지를 불러오기 위해 <img src=\"https://www.goolgle.com/\" alt=\"GOOGLE\"> 가 되야한다."
   ]
  },
  {
   "cell_type": "markdown",
   "metadata": {},
   "source": [
    "**당신은 현재 Resume.html 에서 작업중이다. “내 사진” 이라는 링크를 누르면\n",
    "Image 폴더 안에 my_photo를띄워주는 a 태그 경로를 넣으시오.**"
   ]
  },
  {
   "cell_type": "code",
   "execution_count": null,
   "metadata": {},
   "outputs": [],
   "source": [
    "<a href=\"TIL/SSAFY/Image/my_photo.png\" target=\"_blank\">내 사진</a>"
   ]
  },
  {
   "cell_type": "markdown",
   "metadata": {},
   "source": [
    "<a href=\"TIL/SSAFY/Image/my_photo.png\" target=\"_blank\">내 사진</a>"
   ]
  }
 ],
 "metadata": {
  "kernelspec": {
   "display_name": "Python 3",
   "language": "python",
   "name": "python3"
  },
  "language_info": {
   "codemirror_mode": {
    "name": "ipython",
    "version": 3
   },
   "file_extension": ".py",
   "mimetype": "text/x-python",
   "name": "python",
   "nbconvert_exporter": "python",
   "pygments_lexer": "ipython3",
   "version": "3.7.2"
  }
 },
 "nbformat": 4,
 "nbformat_minor": 2
}
