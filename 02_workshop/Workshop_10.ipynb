{
 "cells": [
  {
   "cell_type": "markdown",
   "metadata": {},
   "source": [
    "# css"
   ]
  },
  {
   "cell_type": "markdown",
   "metadata": {},
   "source": [
    "**Selector 를 활용한 DOM 탐색 실습.**"
   ]
  },
  {
   "cell_type": "markdown",
   "metadata": {},
   "source": [
    "```css\n",
    "<style>\n",
    "    #ssafy > p:nth-child(2) {\n",
    "       color: red;\n",
    "    }\n",
    "</style>\n",
    "<div id=\"ssafy\">\n",
    "    <h2>어떤게 선택될까?</h2>\n",
    "    <p>첫번째 단락</p>\n",
    "    <p>두번째 단락</p>\n",
    "    <p>세번째 단락</p>\n",
    "    <p>네번째 단락</p>\n",
    "</div>\n",
    "```"
   ]
  },
  {
   "cell_type": "markdown",
   "metadata": {},
   "source": [
    "`생각하는 대로 선택되지 않을 것이다. 그렇다면 nth-of-type 를 사용해 보자`"
   ]
  },
  {
   "cell_type": "markdown",
   "metadata": {},
   "source": [
    "```css\n",
    "#ssafy > p:nth-of-type(2){\n",
    "   color: blue;\n",
    "}\n",
    "```"
   ]
  },
  {
   "cell_type": "markdown",
   "metadata": {},
   "source": [
    "### 여러 종류의 태그로 구성되어 있을 때 :nth-of-type(n) 선택자를 사용하여 원하는 태그를 선택할 수 있습니다."
   ]
  }
 ],
 "metadata": {
  "kernelspec": {
   "display_name": "Python 3",
   "language": "python",
   "name": "python3"
  },
  "language_info": {
   "codemirror_mode": {
    "name": "ipython",
    "version": 3
   },
   "file_extension": ".py",
   "mimetype": "text/x-python",
   "name": "python",
   "nbconvert_exporter": "python",
   "pygments_lexer": "ipython3",
   "version": "3.7.2"
  }
 },
 "nbformat": 4,
 "nbformat_minor": 2
}
