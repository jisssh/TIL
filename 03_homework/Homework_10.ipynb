{
 "cells": [
  {
   "cell_type": "markdown",
   "metadata": {},
   "source": [
    "**1. CSS 은 무엇의 약자인가? [___]**\n",
    "``` css\n",
    "(1) Creative Style Sheets\n",
    "\n",
    "(2) Cascading Style Sheets\n",
    "\n",
    "(3) Computer Style Sheets\n",
    "\n",
    "(4) Colorful Style Sheets\n",
    "```"
   ]
  },
  {
   "cell_type": "markdown",
   "metadata": {},
   "source": [
    "=> (2) Cascading Style Sheets"
   ]
  },
  {
   "cell_type": "markdown",
   "metadata": {},
   "source": [
    "**2. 다음 중 맞으면 T, 틀리면 F 를 기입 하시오.**\n",
    "\n",
    "HTML과 CSS는 각자 문법을 갖는 별개의 언어이다. [  **T**  ]\n",
    "\n",
    "웹 브라우저는 내장 기본 스타일이 있어 CSS가 없어도 작동한다. [  **T**  ]\n",
    "\n",
    "자식요소 프로퍼티는 부모의 프로퍼티를 모두 상속 받는다. [  **F**  ] (직접 속성값을 주면 부모로 부터 상속된 값은 무시된다.)"
   ]
  },
  {
   "cell_type": "markdown",
   "metadata": {},
   "source": [
    "**3. 크기 단위 em 은 요소에 지정된 상속된 사이즈나 기본 사이즈에 대해 상대적인 사이즈를 설정한다. 즉, 상속의 영향으로 사이즈가 의도치 않게 변경될 수 있는데 이를 예방하기 위해 HTML 최상위 요소의 사이즈를 기준으로 삼는 크기 단위는 무엇인가?**"
   ]
  },
  {
   "cell_type": "markdown",
   "metadata": {},
   "source": [
    "rem은 html 최상위 요소의 사이즈를 기준으로 삼는다. (r:root)"
   ]
  },
  {
   "cell_type": "markdown",
   "metadata": {},
   "source": [
    "**4. 다음 예제를 통해 \"후손 셀렉터\"와 \"자식 셀렉터\"의 차이를 설명하시오**\n",
    "```css\n",
    "/* 후손 셀렉터 */\n",
    "div p {\n",
    "      color: crimson;\n",
    "   }\n",
    "   \n",
    "/* 자식 셀렉터 */  \n",
    "div > p {\n",
    "      color: crimson;\n",
    "    }\n",
    "```"
   ]
  },
  {
   "cell_type": "markdown",
   "metadata": {},
   "source": [
    "### 후손 선택자\n",
    "\n",
    ">후손 선택자는 문서 구조에서 특정 요소의 후손을 선택하는 선택자입니다. 후손은 자식, 손자, 그리고 그 이후에 후손을 모두 포함 합니다.\n",
    "* 문법\n",
    "A B{속성 속성값;}\n",
    "\n",
    "### 자식 선택자\n",
    ">자식 선택자는 특정 요소의 직계 자식만 선탣하는 선택자입니다. (자식 이후 손자, 후손들 포함하지 않음)\n",
    "* 문법\n",
    "A>B{속성:속성값;}"
   ]
  }
 ],
 "metadata": {
  "kernelspec": {
   "display_name": "Python 3",
   "language": "python",
   "name": "python3"
  },
  "language_info": {
   "codemirror_mode": {
    "name": "ipython",
    "version": 3
   },
   "file_extension": ".py",
   "mimetype": "text/x-python",
   "name": "python",
   "nbconvert_exporter": "python",
   "pygments_lexer": "ipython3",
   "version": "3.7.2"
  }
 },
 "nbformat": 4,
 "nbformat_minor": 2
}
