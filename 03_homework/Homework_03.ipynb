{
 "cells": [
  {
   "cell_type": "markdown",
   "metadata": {},
   "source": [
    "**1. True / False**\n",
    "\n",
    "1-1. windows 와 unix 계열 운체제는 CLI(Command Line Interface) 에서 같은 명령어 를 사용한다.\n",
    "\n",
    "=>False\n",
    "\n",
    "1-2. 우리가 사용하는 컴퓨터는 windows 이므로, unix 계열 운체제 명령어를 학습할 필요 가 없다.\n",
    "\n",
    "=>False\n",
    "1-3. CLI 는 결국 컴퓨터를 조작하기 위해 사용하는 것이다.\n",
    "\n",
    "=>True\n",
    "1-4. CLI 를 통해서 바탕화면에 새로운 파이썬파일(.py)을 생성할 수 있다.\n",
    "\n",
    "=>True"
   ]
  },
  {
   "cell_type": "markdown",
   "metadata": {},
   "source": [
    "**2. 다음 unix 명령어들에 대하여 간략하게 기술하세요.**\n",
    "2-1. ls ",
    "\n",
    "\n",
    "\n",
    "\n"
   ]
  }
 ],
 "metadata": {
  "kernelspec": {
   "display_name": "Python 3",
   "language": "python",
   "name": "python3"
  },
  "language_info": {
   "codemirror_mode": {
    "name": "ipython",
    "version": 3
   },
   "file_extension": ".py",
   "mimetype": "text/x-python",
   "name": "python",
   "nbconvert_exporter": "python",
   "pygments_lexer": "ipython3",
   "version": "3.6.7"
  }
 },
 "nbformat": 4,
 "nbformat_minor": 2
}
