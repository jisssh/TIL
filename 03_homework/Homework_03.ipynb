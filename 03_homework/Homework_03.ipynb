{
 "cells": [
  {
   "cell_type": "markdown",
   "metadata": {},
   "source": [
    "**1. True / False**\n",
    "\n",
    "1-1. windows 와 unix 계열 운체제는 CLI(Command Line Interface) 에서 같은 명령어 를 사용한다.\n",
    "\n",
    "=>False\n",
    "\n",
    "1-2. 우리가 사용하는 컴퓨터는 windows 이므로, unix 계열 운체제 명령어를 학습할 필요 가 없다.\n",
    "\n",
    "=>False\n",
    "1-3. CLI 는 결국 컴퓨터를 조작하기 위해 사용하는 것이다.\n",
    "\n",
    "=>True\n",
    "1-4. CLI 를 통해서 바탕화면에 새로운 파이썬파일(.py)을 생성할 수 있다.\n",
    "\n",
    "=>True"
   ]
  },
  {
   "cell_type": "markdown",
   "metadata": {},
   "source": [
    "**2. 다음 unix 명령어들에 대하여 간략하게 기술하세요.**\n",
    "\n",
    "2-1. ls\n",
    "\n",
    "ls는 현재 사용자의 위치에서의 폴더의 목록을 출력하도록 하는 명령어이다.\n",
    "\n",
    "2-2. cd\n",
    "\n",
    "cd는 change directory 로, 사용자가 지정하는 특정 폴더로 이동하게 하는 명령어이다.\n",
    "\n",
    "2-3. mkdir\n",
    "\n",
    "mkdir은 make directory 로, 새로운 폴더를 생성하는 명령어이다.\n",
    "\n",
    "2-4. touch\n",
    "\n",
    "touch는 새로운 파일을 생성하는 명령어이다."
   ]
  },
  {
   "cell_type": "markdown",
   "metadata": {},
   "source": [
    "**3. CLI 와 익숙해지게 되면, Tab 키를 매우 빈번하게 사용하게 됩니다. 그 이유는 무엇일까요?  (git bash 를 켜고 cd Desk 까지만 입력 후 탭 키를 눌러 봅시다!)**\n",
    "\n",
    "Tab 키를 사용하면, 사용자가 입력하고자 하는 내용을 보여준다. "
   ]
  }
 ],
 "metadata": {
  "kernelspec": {
   "display_name": "Python 3",
   "language": "python",
   "name": "python3"
  },
  "language_info": {
   "codemirror_mode": {
    "name": "ipython",
    "version": 3
   },
   "file_extension": ".py",
   "mimetype": "text/x-python",
   "name": "python",
   "nbconvert_exporter": "python",
   "pygments_lexer": "ipython3",
   "version": "3.7.2"
  }
 },
 "nbformat": 4,
 "nbformat_minor": 2
}
