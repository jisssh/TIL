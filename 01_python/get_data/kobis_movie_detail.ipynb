{
 "cells": [
  {
   "cell_type": "code",
   "execution_count": 6,
   "metadata": {},
   "outputs": [],
   "source": [
    "key = '32f5ec60c73a41954bba1da0470dc0cb'\n",
    "date = 20190113\n",
    "URL = f'http://www.kobis.or.kr/kobisopenapi/webservice/rest/boxoffice/searchWeeklyBoxOfficeList.json?key={key}&targetDt={date}'"
   ]
  },
  {
   "cell_type": "code",
   "execution_count": 7,
   "metadata": {},
   "outputs": [],
   "source": [
    "import requests\n",
    "data = requests.get(URL).json()\n",
    "data = data['boxOfficeResult']['weeklyBoxOfficeList']\n"
   ]
  },
  {
   "cell_type": "code",
   "execution_count": 8,
   "metadata": {},
   "outputs": [],
   "source": [
    "import requests\n",
    "data = requests.get(URL).json()\n",
    "data = data['boxOfficeResult']['weeklyBoxOfficeList']\n"
   ]
  },
  {
   "cell_type": "code",
   "execution_count": 9,
   "metadata": {},
   "outputs": [
    {
     "name": "stdout",
     "output_type": "stream",
     "text": [
      "[{'rnum': '1', 'rank': '1', 'rankInten': '5', 'rankOldAndNew': 'OLD', 'movieCd': '20184105', 'movieNm': '말모이', 'openDt': '2019-01-09', 'salesAmt': '6920872381', 'salesShare': '33.9', 'salesInten': '6091877281', 'salesChange': '734.9', 'salesAcc': '10070068631', 'audiCnt': '785611', 'audiInten': '692681', 'audiChange': '745.4', 'audiAcc': '1185368', 'scrnCnt': '1203', 'showCnt': '15071'}, {'rnum': '2', 'rank': '2', 'rankInten': '35', 'rankOldAndNew': 'OLD', 'movieCd': '20176251', 'movieNm': '내안의 그놈', 'openDt': '2019-01-09', 'salesAmt': '5007716526', 'salesShare': '24.5', 'salesInten': '5003140526', 'salesChange': '109334.4', 'salesAcc': '6638709476', 'audiCnt': '564563', 'audiInten': '564147', 'audiChange': '135612.3', 'audiAcc': '765383', 'scrnCnt': '1041', 'showCnt': '10530'}, {'rnum': '3', 'rank': '3', 'rankInten': '-2', 'rankOldAndNew': 'OLD', 'movieCd': '20189463', 'movieNm': '주먹왕 랄프 2: 인터넷 속으로', 'openDt': '2019-01-03', 'salesAmt': '2580596505', 'salesShare': '12.6', 'salesInten': '-2585038043', 'salesChange': '-50.0', 'salesAcc': '10731240153', 'audiCnt': '316111', 'audiInten': '-311795', 'audiChange': '-49.7', 'audiAcc': '1342315', 'scrnCnt': '934', 'showCnt': '7910'}, {'rnum': '4', 'rank': '4', 'rankInten': '0', 'rankOldAndNew': 'NEW', 'movieCd': '20183915', 'movieNm': '극장판 공룡메카드: 타이니소어의 섬', 'openDt': '2019-01-10', 'salesAmt': '1817449690', 'salesShare': '8.9', 'salesInten': '1817449690', 'salesChange': '100.0', 'salesAcc': '2236575440', 'audiCnt': '230684', 'audiInten': '230684', 'audiChange': '100.0', 'audiAcc': '289873', 'scrnCnt': '763', 'showCnt': '6006'}, {'rnum': '5', 'rank': '5', 'rankInten': '-3', 'rankOldAndNew': 'OLD', 'movieCd': '20180290', 'movieNm': '아쿠아맨', 'openDt': '2018-12-19', 'salesAmt': '1672625525', 'salesShare': '8.2', 'salesInten': '-2696939873', 'salesChange': '-61.7', 'salesAcc': '43125562814', 'audiCnt': '182199', 'audiInten': '-299723', 'audiChange': '-62.2', 'audiAcc': '4920735', 'scrnCnt': '738', 'showCnt': '5979'}, {'rnum': '6', 'rank': '6', 'rankInten': '-3', 'rankOldAndNew': 'OLD', 'movieCd': '20185485', 'movieNm': '보헤미안 랩소디', 'openDt': '2018-10-31', 'salesAmt': '781288690', 'salesShare': '3.8', 'salesInten': '-823932160', 'salesChange': '-51.3', 'salesAcc': '84970758385', 'audiCnt': '84516', 'audiInten': '-91571', 'audiChange': '-52.0', 'audiAcc': '9785643', 'scrnCnt': '521', 'showCnt': '2815'}, {'rnum': '7', 'rank': '7', 'rankInten': '18', 'rankOldAndNew': 'OLD', 'movieCd': '20184574', 'movieNm': '그린 북', 'openDt': '2019-01-09', 'salesAmt': '594163824', 'salesShare': '2.9', 'salesInten': '584763824', 'salesChange': '6220.9', 'salesAcc': '889374224', 'audiCnt': '65641', 'audiInten': '64701', 'audiChange': '6883.1', 'audiAcc': '99569', 'scrnCnt': '373', 'showCnt': '2634'}, {'rnum': '8', 'rank': '8', 'rankInten': '-3', 'rankOldAndNew': 'OLD', 'movieCd': '20186281', 'movieNm': '범블비', 'openDt': '2018-12-25', 'salesAmt': '173247310', 'salesShare': '0.8', 'salesInten': '-952872265', 'salesChange': '-84.6', 'salesAcc': '13026874637', 'audiCnt': '19970', 'audiInten': '-109469', 'audiChange': '-84.6', 'audiAcc': '1553491', 'scrnCnt': '279', 'showCnt': '1119'}, {'rnum': '9', 'rank': '9', 'rankInten': '-5', 'rankOldAndNew': 'OLD', 'movieCd': '20170658', 'movieNm': 'PMC: 더 벙커', 'openDt': '2018-12-26', 'salesAmt': '126182180', 'salesShare': '0.6', 'salesInten': '-1208520147', 'salesChange': '-90.5', 'salesAcc': '13976496874', 'audiCnt': '13528', 'audiInten': '-134448', 'audiChange': '-90.9', 'audiAcc': '1665204', 'scrnCnt': '268', 'showCnt': '990'}, {'rnum': '10', 'rank': '10', 'rankInten': '0', 'rankOldAndNew': 'NEW', 'movieCd': '20187427', 'movieNm': '명탐정 코난 : 제로의 집행인', 'openDt': '2018-08-08', 'salesAmt': '78711000', 'salesShare': '0.4', 'salesInten': '78711000', 'salesChange': '100.0', 'salesAcc': '3165334361', 'audiCnt': '8768', 'audiInten': '8768', 'audiChange': '100.0', 'audiAcc': '414506', 'scrnCnt': '31', 'showCnt': '368'}]\n"
     ]
    }
   ],
   "source": [
    "print(data)"
   ]
  },
  {
   "cell_type": "code",
   "execution_count": 10,
   "metadata": {},
   "outputs": [
    {
     "name": "stdout",
     "output_type": "stream",
     "text": [
      "['20184105', '20176251', '20189463', '20183915', '20180290', '20185485', '20184574', '20186281', '20170658', '20187427'] ['말모이', '내안의 그놈', '주먹왕 랄프 2: 인터넷 속으로', '극장판 공룡메카드: 타이니소어의 섬', '아쿠아맨', '보헤미안 랩소디', '그린 북', '범블비', 'PMC: 더 벙커', '명탐정 코난 : 제로의 집행인'] ['785611', '564563', '316111', '230684', '182199', '84516', '65641', '19970', '13528', '8768']\n"
     ]
    }
   ],
   "source": [
    "count = 0\n",
    "movieCd = []\n",
    "movieNm = []\n",
    "audiCnt = []\n",
    "for movie in data:\n",
    "    movieCd.append(data[count]['movieCd'])\n",
    "    movieNm.append(data[count]['movieNm'])\n",
    "    audiCnt.append(data[count]['audiCnt'])\n",
    "    count += 1\n",
    "print(movieCd, movieNm, audiCnt)"
   ]
  },
  {
   "cell_type": "code",
   "execution_count": null,
   "metadata": {},
   "outputs": [],
   "source": []
  },
  {
   "cell_type": "code",
   "execution_count": null,
   "metadata": {},
   "outputs": [],
   "source": []
  }
 ],
 "metadata": {
  "kernelspec": {
   "display_name": "Python 3",
   "language": "python",
   "name": "python3"
  },
  "language_info": {
   "codemirror_mode": {
    "name": "ipython",
    "version": 3
   },
   "file_extension": ".py",
   "mimetype": "text/x-python",
   "name": "python",
   "nbconvert_exporter": "python",
   "pygments_lexer": "ipython3",
   "version": "3.6.7"
  }
 },
 "nbformat": 4,
 "nbformat_minor": 2
}
