{
 "cells": [
  {
   "cell_type": "markdown",
   "metadata": {},
   "source": [
    "# Day1"
   ]
  },
  {
   "cell_type": "markdown",
   "metadata": {},
   "source": [
    "# Workshop"
   ]
  },
  {
   "cell_type": "markdown",
   "metadata": {},
   "source": [
    "★\n",
    "두 개의 정수 n과 m이 주어집니다. 반복문을 사용하지 않고 별(*) 문자를 이용해 가로\n",
    "의 길이가 n, 세로의 길이가 m인 직사각형 형태를 출력해보세요."
   ]
  },
  {
   "cell_type": "code",
   "execution_count": 1,
   "metadata": {},
   "outputs": [
    {
     "name": "stdout",
     "output_type": "stream",
     "text": [
      "*****\n",
      "*****\n",
      "*****\n",
      "*****\n",
      "*****\n",
      "*****\n",
      "*****\n",
      "*****\n",
      "*****\n",
      "\n"
     ]
    }
   ],
   "source": [
    "n = 5\n",
    "m = 9\n",
    "\n",
    "horiz = '*' * n\n",
    "print(f'{horiz}\\n'*m)"
   ]
  },
  {
   "cell_type": "markdown",
   "metadata": {},
   "source": [
    "★★다음 딕셔너리에서 평균 점수를 출력하시오."
   ]
  },
  {
   "cell_type": "code",
   "execution_count": 2,
   "metadata": {},
   "outputs": [
    {
     "name": "stdout",
     "output_type": "stream",
     "text": [
      "87.75\n"
     ]
    }
   ],
   "source": [
    "student = {'python':80, 'algorithm':99, 'django':89, 'flask':83}\n",
    "\n",
    "print(sum(student.values())/len(student))"
   ]
  },
  {
   "cell_type": "markdown",
   "metadata": {},
   "source": [
    "★★★다음은 학생들의 혈액형(A, B, AB, O)에 대한 데이터이다. for문을 이용하여 각 혈액형\n",
    "별 학생수의 합계를 구하시오."
   ]
  },
  {
   "cell_type": "code",
   "execution_count": 3,
   "metadata": {},
   "outputs": [
    {
     "name": "stdout",
     "output_type": "stream",
     "text": [
      "혈액형이 A 형인 학생의 수는 3명이다\n",
      "혈액형이 B 형인 학생의 수는 3명이다\n",
      "혈액형이 O 형인 학생의 수는 3명이다\n",
      "혈액형이 AB 형인 학생의 수는 3명이다\n"
     ]
    }
   ],
   "source": [
    "blood_types = ['A', 'B', 'A', 'O', 'AB', 'AB', 'O', 'A', 'B', 'O', 'B', 'AB']\n",
    "\n",
    "count_a = 0\n",
    "for a in blood_types :\n",
    "    if a == 'A' :\n",
    "        count_a += 1\n",
    "print('혈액형이 A 형인 학생의 수는 {}명이다'.format(count_a))\n",
    "\n",
    "count_b = 0\n",
    "for a in blood_types :\n",
    "    if a == 'B' :\n",
    "        count_b += 1\n",
    "print('혈액형이 B 형인 학생의 수는 {}명이다'.format(count_b))\n",
    "\n",
    "count_o = 0\n",
    "for a in blood_types :\n",
    "    if a == 'O' :\n",
    "        count_o += 1\n",
    "print('혈액형이 O 형인 학생의 수는 {}명이다'.format(count_o))\n",
    "\n",
    "count_ab = 0\n",
    "for a in blood_types :\n",
    "    if a == 'AB' :\n",
    "        count_ab += 1\n",
    "\n",
    "print('혈액형이 AB 형인 학생의 수는 {}명이다'.format(count_ab))\n"
   ]
  },
  {
   "cell_type": "markdown",
   "metadata": {},
   "source": [
    "# Homework"
   ]
  },
  {
   "cell_type": "markdown",
   "metadata": {},
   "source": [
    "1. Python에서 사용할 수 없는 식별자(예약어)를 찾아 작성하세요."
   ]
  },
  {
   "cell_type": "code",
   "execution_count": null,
   "metadata": {},
   "outputs": [],
   "source": [
    "import keyword\n",
    "print (keyword.kwlist)\n",
    "#['False', 'None', 'True', 'and', 'as', 'assert', 'break', 'class', 'continue', 'def', 'del', 'elif', 'else', 'except', 'finally', 'for', 'from', 'global', 'if', 'import', 'in', 'is', 'lambda', 'nonlocal', 'not', 'or', 'pass', 'raise', 'return', 'try', 'while', 'with', 'yield']"
   ]
  },
  {
   "cell_type": "markdown",
   "metadata": {},
   "source": [
    "2. 파이썬에서 float는 실수를 표현하는 과정에서 같은 값으로 일치되지 않습니다.\n",
    "(floating point rounding error)\n",
    "따라서, 아래의 값을 비교하기 위해 작성해야하는 코드를 작성하세요."
   ]
  },
  {
   "cell_type": "code",
   "execution_count": 5,
   "metadata": {},
   "outputs": [
    {
     "data": {
      "text/plain": [
       "True"
      ]
     },
     "execution_count": 5,
     "metadata": {},
     "output_type": "execute_result"
    }
   ],
   "source": [
    "a = 0.1*3\n",
    "b = 0.3\n",
    "abs(a - b) <= 1e-10"
   ]
  },
  {
   "cell_type": "markdown",
   "metadata": {},
   "source": [
    "3. 이스케이프 문자열 중 1) 줄바꿈 2) 탭 3) \\ 을 작성하세요."
   ]
  },
  {
   "cell_type": "code",
   "execution_count": 8,
   "metadata": {},
   "outputs": [
    {
     "name": "stdout",
     "output_type": "stream",
     "text": [
      "줄\n",
      "바꿈\n",
      "탭\t탭\n",
      "\\\n"
     ]
    }
   ],
   "source": [
    "print('줄\\n바꿈')\n",
    "print('탭\\t탭')\n",
    "print('\\\\')"
   ]
  },
  {
   "cell_type": "markdown",
   "metadata": {},
   "source": [
    "4. “안녕, 철수야”를 String Interpolation을 사용하여 출력하세요."
   ]
  },
  {
   "cell_type": "code",
   "execution_count": 3,
   "metadata": {},
   "outputs": [
    {
     "name": "stdout",
     "output_type": "stream",
     "text": [
      "\"안녕, 철수야\"\n",
      "\"안녕, 철수야\"\n"
     ]
    }
   ],
   "source": [
    "name = '철수'\n",
    "print('\"안녕, {}야\"'.format(name))\n",
    "print(f'\"안녕, {name}야\"')"
   ]
  },
  {
   "cell_type": "markdown",
   "metadata": {},
   "source": [
    "5. 다음 중 형변환시 오류가 발생하는 것은?"
   ]
  },
  {
   "cell_type": "markdown",
   "metadata": {},
   "source": [
    "int('3.5') 이 답이다.\n",
    "정수형이기 때문에 실수가 들어가, 오류가 발생하게 된다."
   ]
  }
 ],
 "metadata": {
  "kernelspec": {
   "display_name": "Python 3",
   "language": "python",
   "name": "python3"
  },
  "language_info": {
   "codemirror_mode": {
    "name": "ipython",
    "version": 3
   },
   "file_extension": ".py",
   "mimetype": "text/x-python",
   "name": "python",
   "nbconvert_exporter": "python",
   "pygments_lexer": "ipython3",
   "version": "3.6.7"
  }
 },
 "nbformat": 4,
 "nbformat_minor": 2
}
