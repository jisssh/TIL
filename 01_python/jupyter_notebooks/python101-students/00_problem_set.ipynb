{
 "cells": [
  {
   "cell_type": "markdown",
   "metadata": {},
   "source": [
    "# **Problem set**"
   ]
  },
  {
   "cell_type": "markdown",
   "metadata": {},
   "source": [
    "# **190108**"
   ]
  },
  {
   "cell_type": "markdown",
   "metadata": {},
   "source": [
    "## 1. 이상한 덧셈\n",
    ">숫자로 구성된 리스트에서 양의 정수의 합을 구하는 함수, `positive_sum` 을 만들어 보아요\n",
    "\n",
    "예시)\n",
    "```python\n",
    "positive_sum([1, -10, 2]) # 3\n",
    "positive_sum([-1, -2, -3, -4]) # 0\n",
    "```"
   ]
  },
  {
   "cell_type": "code",
   "execution_count": null,
   "metadata": {},
   "outputs": [],
   "source": [
    "numbers = [1 , -10, 29]\n",
    "def postive_sum(numbers):\n",
    "    for i in numbers:\n",
    "        if i <0: \n",
    "            numbers.remove(i)\n",
    "        else:\n",
    "            False\n",
    "            \n",
    "    return sum(numbers)\n",
    "    \n",
    "print(postive_sum(numbers))"
   ]
  },
  {
   "cell_type": "code",
   "execution_count": null,
   "metadata": {},
   "outputs": [],
   "source": [
    "# 교수님 답\n",
    "def postive_sum(numbers):\n",
    "    total = 0\n",
    "    for number in numbers:\n",
    "        if number > 0: \n",
    "            total += number\n",
    "            num.remove(i)\n",
    "    return total\n",
    "\n",
    "def pos_num(numbers):\n",
    "    return sum(x for x in numbers if x > 0)\n",
    "\n",
    "print(postive_sum([1, -10, 2]))\n",
    "print(postive_sum([-1, -10, 2]))"
   ]
  },
  {
   "cell_type": "markdown",
   "metadata": {},
   "source": [
    "### 2. 문자열 탐색\n",
    ">문자열 요소로만 이루어진 리스트를 넣었을 때, 문자열의 길이가 2이상이고 주어진 문자열의 첫 번째의 마지막 문자가 같은 문자열의 수를 세는 함수 `start_end` 를 작성하세요.\n",
    "\n",
    "예시)\n",
    "```python\n",
    "start_end(['level', 'asdwe', 's', 'abadsfa', 'q1q']) #3\n",
    "```"
   ]
  },
  {
   "cell_type": "code",
   "execution_count": null,
   "metadata": {},
   "outputs": [],
   "source": [
    "letters = ['level', 'asdwe', 's', 'abadsfa', 'q1q', 'yiy']\n",
    "def start_end(letters):\n",
    "    count = 0\n",
    "    for i in letters:\n",
    "        if (len(i) >= 2) and (i[0] == i[-1]):\n",
    "            count += 1\n",
    "    return count\n",
    "\n",
    "    \n",
    "print(start_end(letters))    "
   ]
  },
  {
   "cell_type": "markdown",
   "metadata": {},
   "source": [
    "### 3. Collatz\n",
    ">Colatz 추측 : 어떤 자연수 n 이던지, 다음과 같은 작업을 반복하면 1로 만들수 있다.\n",
    "1. n 이 짝수라면 2로 나눈다.\n",
    "2. n 이 홀수라면 3을 곱하고 1을 더한다.\n",
    "3. 결과로 나온 수에 1 / 2 의 작업을 1이 될때까지 반복한다.\n",
    "\n",
    ">예를 들어 n이 6이면, 6=>3=>10=>5=>16=>8=>4=>2=>1이 되며 8번 (=>갯수!) 만에 1이 됩니다. 자연수 n이 들어왔을 때, 몇 번의 작업만에 1이 되는지를 `return` 하는 함수 `collatz` 를 완성하세요.\n",
    "\n",
    ">단! 500번을 넘어가도 1이 되지 않는다면, -1을 `return` 할게요!\n",
    "\n",
    "예시)\n",
    "```python\n",
    "collatz(6) # \n",
    "collatz(16)\n",
    "collatz(6263313)\n",
    "```"
   ]
  },
  {
   "cell_type": "code",
   "execution_count": null,
   "metadata": {},
   "outputs": [],
   "source": [
    "def collatz(n):\n",
    "    count = 0\n",
    "    \n",
    "    while n != 1:\n",
    "        if n % 2 == 0:\n",
    "            n = n/2\n",
    "            count += 1\n",
    "        elif n%2 != 0:\n",
    "            n = n * 3 + 1\n",
    "            count += 1\n",
    "      \n",
    "    \n",
    "    if count > 500:\n",
    "        return -1\n",
    "    else:\n",
    "        return count\n",
    "print(collatz(626331)) # 508\n",
    "print(collatz(6))      "
   ]
  },
  {
   "cell_type": "code",
   "execution_count": null,
   "metadata": {},
   "outputs": [],
   "source": [
    "# 교수님 답\n",
    "def collatz(num):\n",
    "    for i in range(500):\n",
    "        if num % 2: # 0이 아니면 True => 홀수\n",
    "            num = num * 3 + 1\n",
    "        else: # 짝수면\n",
    "            num = num / 2\n",
    "        # num = num * 3 - 1 if num % 2 else num / 2\n",
    "        \n",
    "        if num == 1:\n",
    "            return i + 1\n",
    "    return -1\n",
    "        \n",
    "print(collatz(626331)) # 508\n",
    "print(collatz(6))      "
   ]
  },
  {
   "cell_type": "markdown",
   "metadata": {},
   "source": [
    "### 4. 솔로 천국\n",
    ">리스트가 주어질때, 리스트의 요소 `e` 는 `range(0,10)` 에 포함되는 자연수 이다. 리스트에서 연속적으로 나타내는 숫자는 하나만 남기고 전부 제거하며, `return` 하는 함수 `lonely()` 를 작성해 보세요. 이때! 제거된 후 남은 수들을 반환할 때는 리스트의 요소들이 순서를 유지해야 합니다.\n",
    "\n",
    "예시)\n",
    "```python\n",
    "lonely([1, 1, 3, 3, 0, 1, 1, 3, 0, 3]) # [1, 3, 0]\n",
    "lonely([4, 4, 3, 3, 3, 4]) # [4, 3]\n",
    "```\n",
    "\n",
    "\n",
    "{'key1': 'value', 'key2': 'value2'}\n"
   ]
  },
  {
   "cell_type": "code",
   "execution_count": null,
   "metadata": {},
   "outputs": [],
   "source": [
    "numbers_1 = [1, 1, 3, 3, 0, 1, 1, 3, 0, 3]\n",
    "numbers_2 = [4, 4, 3, 3, 3, 4]\n",
    "def lonely(numbers):\n",
    "    new_numbers = []\n",
    "    for i in numbers:\n",
    "        if i not in new_numbers:\n",
    "            new_numbers.append(i)\n",
    "    return new_numbers\n",
    "\n",
    "print(lonely(numbers_1))"
   ]
  },
  {
   "cell_type": "code",
   "execution_count": null,
   "metadata": {},
   "outputs": [],
   "source": [
    "# 교수님 답\n",
    "def lonely(numbers):\n",
    "    result = []\n",
    "    for number in numbers:\n",
    "        if not result:\n",
    "            result.append(number)\n",
    "        elif result[-1] != number:\n",
    "            if result.count(number) == 0:\n",
    "                result.append(number)\n",
    "    return result\n",
    "    \n",
    "    \n",
    "print(lonely([1, 1, 3, 3, 0, 1, 1, 3, 0, 3]))\n",
    "print(lonely([4, 4, 3, 3, 3, 4]))"
   ]
  },
  {
   "cell_type": "markdown",
   "metadata": {},
   "source": [
    "### 5. (hard) RGB 삼각형\n",
    "| BG | RG | BR | RR | GG | BB |\n",
    "|----|----|----|----|----|----|\n",
    "| R  | B  | G  | R  | G  | B  |\n",
    "\n",
    ">입력으로 '`R`, `G`, `B`'가 섞여있는 문자열이 들어온다. 문자열은 다음과 같이 합쳐진다. 해당 문자열을 처리하여 마지막 색깔만 `return` 하는 `triange()`을 작성하세요.\n",
    "\n",
    "예시)\n",
    "```python\n",
    "triangle('RRGBRGBB') # G\n",
    "triangle('GB') # R\n",
    "triangle('B') # B\n",
    "triangle('RGBG') # B\n",
    "```"
   ]
  },
  {
   "cell_type": "markdown",
   "metadata": {},
   "source": [
    "### 6. (???)홀수개를 찾아라\n",
    ">입력으로 list 가 한개 들어옵니다. 이 list 에는 1개의 숫자만 홀수개 들어있습니다.\n",
    " 이 1개의 홀수개인 숫자를 `return` 하는 `find_odd()` 를 작성하세요.\n",
    " \n",
    " 예시)\n",
    " \n",
    "\n",
    " find_odd([1, 1, 2, 2, 3, 3, 3]) # 3\n",
    " \n",
    " find_odd([2, 1, 2]) # 1\n",
    " \n",
    " find_odd([1, 2, 2, 3, 2, 2, 1]) # 3  "
   ]
  },
  {
   "cell_type": "code",
   "execution_count": null,
   "metadata": {},
   "outputs": [],
   "source": [
    "# 안되는 코드이다...리스트를 돌고 돌아오면 인덱스가 바껴있으므로 더이상 동작하지 않는다.\n",
    "\n",
    "def find_odd(numbers):\n",
    "    number = numbers\n",
    "    for odd in numbers:\n",
    "        if numbers.count(odd) % 2 == 0:\n",
    "            while odd not in numbers:\n",
    "                numbers.remove(odd)\n",
    "    return numbers\n",
    "\n",
    "\n",
    "find_odd([1, 2, 1, 3, 4, 4, 2])\n",
    "    "
   ]
  },
  {
   "cell_type": "code",
   "execution_count": null,
   "metadata": {},
   "outputs": [],
   "source": [
    "# 다른 분의 답_1\n",
    "def find_odd(numbers):\n",
    "    for uniq in list(set(numbers)):\n",
    "        if numbers.count(uniq) % 2:\n",
    "            return uniq\n",
    "find_odd([1, 2, 1, 3, 4, 4, 2])"
   ]
  },
  {
   "cell_type": "code",
   "execution_count": null,
   "metadata": {},
   "outputs": [],
   "source": [
    "# 다른 분의 답_2\n",
    "def find_odd(numbers):\n",
    "    numbers.sort()\n",
    "    for \n",
    "\n",
    "\n",
    "    \n",
    "find_odd([1, 1, \n",
    "          1, 2, \n",
    "          2, 4,\n",
    "          4])"
   ]
  },
  {
   "cell_type": "code",
   "execution_count": null,
   "metadata": {},
   "outputs": [],
   "source": [
    "# 다른 분의 답_3(참면니)\n",
    "def find_odd(num):\n",
    "    fin = []\n",
    "    for x in num:\n",
    "        if num.count(x) % 2:\n",
    "            fin.append(x)\n",
    "    return fin[0]\n",
    "find_odd([1, 2, 1, 3, 4, 4, 2])\n",
    "    "
   ]
  },
  {
   "cell_type": "code",
   "execution_count": null,
   "metadata": {},
   "outputs": [],
   "source": [
    "# 교수님 답\n",
    "from operator import xor\n",
    "\n",
    "def find_odd(num):\n",
    "    result = 0\n",
    "    for n in num:\n",
    "        result = result ^ n\n",
    "    return result\n",
    "\n",
    "\n",
    "find_odd([1, 2, 1, 3, 4, 4, 2])\n",
    "# ^(carrot)이 비트연산이라고 함(xor 과 같은 기능)"
   ]
  },
  {
   "cell_type": "code",
   "execution_count": null,
   "metadata": {},
   "outputs": [],
   "source": [
    "# 교수님 답_2 같은 숫자가 짝수개이면 무조건 0이 되게 되어있다.\n",
    "from operator import xor\n",
    "def find_odd(num):\n",
    "    return reduce(xor, numbers)"
   ]
  },
  {
   "cell_type": "markdown",
   "metadata": {},
   "source": [
    "# **190109**"
   ]
  },
  {
   "cell_type": "markdown",
   "metadata": {},
   "source": [
    "### 1. UP & DOWN\n",
    "> 우리가 `range(1, 101)` 중 하나를 생각한다. 컴퓨터가 절반에 위치한 숫자를 물어보고, 생각한 수보다 크면 1, 작으면 -1, 맞으면 0을 입력한다. 이때 몇번만에 컴퓨터가 맞췄는지 출력하고 프로그램을 끝낸다.\n",
    "\n",
    "예시)\n",
    "```sh\n",
    "숫자를 생각하세요..\n",
    "50\n",
    ">-1\n",
    "25\n",
    ">-1\n",
    "13\n",
    ">-1\n",
    "7\n",
    ">1\n",
    "10\n",
    ">1\n",
    "12\n",
    ">0\n",
    "6 번만에 맞혔습니다!\n",
    "```\n",
    "\n",
    "```python\n",
    "def guess_up_down():\n",
    "    print('숫자를 생각하세요...')\n",
    "    n = 100 //2\n",
    "    print(n)\n",
    "    user_feedback = input('작으면 -1, 맞으면 0, 크면 1:')\n",
    "    ...\n",
    "    print(f'{count} 번 만에 맞춤!')\n",
    "   \n",
    "guess_up_down()\n",
    "```"
   ]
  },
  {
   "cell_type": "code",
   "execution_count": null,
   "metadata": {},
   "outputs": [],
   "source": [
    "def guess_up_down(num):\n",
    "    count = 1\n",
    "    minimum = 0\n",
    "    maximum = 101\n",
    "    print('마음속으로 숫자를 생각하세요...')\n",
    "    \n",
    "    num = (minimum + maximum) // 2\n",
    "    print(num)\n",
    "    user_feedback = int(input('작으면 -1, 맞으면 0, 크면 1: '))\n",
    "    \n",
    "    while user_feedback != 0:\n",
    "    \n",
    "        if user_feedback == -1: # down\n",
    "            maximum = num\n",
    "            num = (minimum + maximum) // 2\n",
    "            count += 1\n",
    "            print(num)\n",
    "            user_feedback = int(input('작으면 -1, 맞으면 0, 크면 1: '))\n",
    "        elif user_feedback == 1: # up\n",
    "            minimum = num\n",
    "            num = (minimum + maximum) // 2\n",
    "            count += 1\n",
    "            print (num)\n",
    "            user_feedback = int(input('작으면 -1, 맞으면 0, 크면 1: '))\n",
    "        else:\n",
    "            print('-1, 0, 1 세 숫자중 한 숫자만 입력하세요!!')\n",
    "            user_feedback = input('작으면 -1, 맞으면 0, 크면 1: ')\n",
    "    if user_feedback == 0:\n",
    "        print(f'{count} 번 만에 맞춤!')\n",
    "guess_up_down(100)    \n",
    "    "
   ]
  },
  {
   "cell_type": "code",
   "execution_count": null,
   "metadata": {},
   "outputs": [],
   "source": [
    "# 교수님 답!( 너무 간단하쥬! )\n",
    "def guess_up_down():\n",
    "    count = 0\n",
    "    max_n, min_n = 101, 0\n",
    "    print('숫자를 생각하세요,,,')\n",
    "    \n",
    "    while 1:\n",
    "        guess = (max_n + min_n) // 2\n",
    "        print(guess)\n",
    "        count += 1\n",
    "        feedback = int(input('작으면 -1, 맞으면 0, 크면 1: '))\n",
    "        \n",
    "        if feedback == -1:\n",
    "            max_n = guess\n",
    "        elif feedback == 1:\n",
    "            min_n = guess\n",
    "    \n",
    "        else:\n",
    "            return count\n",
    "\n",
    "guess_up_down()"
   ]
  },
  {
   "cell_type": "code",
   "execution_count": null,
   "metadata": {},
   "outputs": [],
   "source": [
    "# 재귀로 풀면!?"
   ]
  },
  {
   "cell_type": "markdown",
   "metadata": {},
   "source": [
    "# **190110**"
   ]
  },
  {
   "cell_type": "markdown",
   "metadata": {},
   "source": [
    "###  Hangman \n",
    ">필요한 함수들!"
   ]
  },
  {
   "cell_type": "code",
   "execution_count": null,
   "metadata": {},
   "outputs": [],
   "source": [
    "def is_answer(answer, letters):\n",
    "    answer = set(answer)\n",
    "    count = 0\n",
    "    for char in set(letters):\n",
    "        if char in answer:\n",
    "            count += 1\n",
    "    return len(answer) == count\n",
    "    \n",
    "    \n",
    "is_answer('apple', ['a', 'p', 'l', 'e']) # False\n"
   ]
  },
  {
   "cell_type": "code",
   "execution_count": null,
   "metadata": {},
   "outputs": [],
   "source": [
    "def status(answer, letters):\n",
    "    for char in answer:\n",
    "        if char not in letters:\n",
    "            answer = answer.replace(char, ' _')\n",
    "    return answer\n",
    "            \n",
    "status('apple', ['a', 'l', 'e'])"
   ]
  },
  {
   "cell_type": "markdown",
   "metadata": {},
   "source": [
    "### Hangman 으로 로직 만들기\n",
    ">위의 코드를 활용하여 `Hangman(answer)` 을 만들자! 사용자가 답을 맞추거나, 시도가 8번 넘어가면 종료!"
   ]
  },
  {
   "cell_type": "code",
   "execution_count": 7,
   "metadata": {},
   "outputs": [
    {
     "name": "stdout",
     "output_type": "stream",
     "text": [
      "맞춰보세욤!: l\n",
      "***l*\n",
      "맞춰보세욤!: 1\n",
      "땡!!!! 남은시도 횟수 :🍕🍕🍕🍕🍕🍕🍕❌\n",
      "맞춰보세욤!: op\n",
      "한글자 plz...\n",
      "맞춰보세욤!: a\n",
      "a**l*\n",
      "맞춰보세욤!: p\n",
      "appl*\n",
      "맞춰보세욤!: e\n",
      "apple\n",
      "답은 ....: apple\n"
     ]
    }
   ],
   "source": [
    " def hangman(answer):\n",
    "    try_answer = answer\n",
    "    count = 0\n",
    "    num_ans = 0\n",
    "    blank = ['*'] * len(answer)\n",
    "    is_it_right = ''.join(blank)\n",
    "    while count != 8 and is_it_right != answer:  \n",
    "        users_answer = input('맞춰보세욤!: ')\n",
    "        if len(users_answer) != 1:\n",
    "            print('한글자 plz...')\n",
    "        else:\n",
    "            if users_answer not in answer:\n",
    "                count += 1\n",
    "                print(\"땡!!!! 남은시도 횟수 :\" + '🍕'*(8-count) +'❌'*count)\n",
    "                if count ==8:\n",
    "                    print('기회 끝! 게임이 끝났습니다.')\n",
    "                    break\n",
    "            else:\n",
    "                num_ans = try_answer.count(users_answer)\n",
    "                while num_ans != 0:\n",
    "\n",
    "                        blank[try_answer.index(users_answer)]= users_answer\n",
    "                        try_answer = try_answer.replace(users_answer,'_',1)\n",
    "                        num_ans -= 1\n",
    "                        is_it_right = ''.join(blank)\n",
    "                print (is_it_right)\n",
    "\n",
    "    return ('답은 ....: {}'.format(answer))\n",
    "    \n",
    "\n",
    "print(hangman('apple'))"
   ]
  },
  {
   "cell_type": "code",
   "execution_count": null,
   "metadata": {},
   "outputs": [],
   "source": [
    "# 교수님 답\n",
    "def hangman(answer):\n",
    "    input_letters = []\n",
    "    attempt = 8\n",
    "    print('==start==')\n",
    "    while 1:\n",
    "        print(\"남은목숨:\" + '❤️'*attempt +'🖤'*(8-attempt))\n",
    "        print(status(answer, input_letters))\n",
    "        \n",
    "        guess = input('알파벳을 입력하세요:').lower()\n",
    "        input_letters.append(guess)\n",
    "        \n",
    "        if is_answer(answer, input_letters):\n",
    "            return '성공!'\n",
    "        else:\n",
    "            attempt -= 1\n",
    "        if not attempt:\n",
    "            return '실패!'\n",
    "print(hangman('apple'))"
   ]
  },
  {
   "cell_type": "code",
   "execution_count": null,
   "metadata": {},
   "outputs": [],
   "source": [
    "# 조너굴\n",
    "def is_answer(answer, letters):\n",
    "    sanswer = set(answer)\n",
    "    for a in letters:\n",
    "        if set(a) & sanswer:\n",
    "            sanswer -= set(a)\n",
    "    if sanswer:\n",
    "        return False\n",
    "    else: \n",
    "        return True\n",
    "    \n",
    "def status(answer, letters):\n",
    "    answer = (' ').join(answer).split()\n",
    "    for a in answer:\n",
    "        if a not in letters:\n",
    "            i = answer.index(a)\n",
    "            answer.insert(i, '_')\n",
    "            answer.remove(a)\n",
    "    for l in letters:\n",
    "        if l not in answer:\n",
    "            answer = ['오답입니다.']\n",
    "    return (' ').join(answer)\n",
    "\n",
    "def hangman(answer, n=8, h=5):\n",
    "    input_letter = []\n",
    "    count = 1\n",
    "    count_heart = 0\n",
    "    while count != n+1 and count_heart != h:\n",
    "        if count == n:\n",
    "            my_answer = input(f'마지막 시도입니다. 신중하게 입력하세요 : ')\n",
    "        else:\n",
    "            my_answer = input(f'{count}번째 시도입니다. 단어를 입력하세요 : ')\n",
    "        if len(my_answer) != 1:\n",
    "            print('\\n한 글자만 입력해 주세요!\\n')\n",
    "        else:\n",
    "            count += 1\n",
    "            if status(answer, my_answer) == '오답입니다.':\n",
    "                count_heart += 1\n",
    "            elif is_answer(answer, my_answer):\n",
    "                return f'정답은 {answer} 입니다! {count}번 만에 성공하셨어요!'\n",
    "            else:\n",
    "                input_letter.append(my_answer)\n",
    "            print('\\n', ' :hearts: '*(h-count_heart), '♡ '*(count_heart), '\\n')\n",
    "            print(status(answer, input_letter), '\\n')\n",
    "    if count == n+1:\n",
    "        return f'{n}번의 도전기회를 모두 소모하셨습니다. 가망이 없군요!' \n",
    "    else:\n",
    "        return f'{count_heart}개의 목숨을 모두 소진하셨습니다. 포기하세요!'\n",
    "        \n",
    "        \n",
    "        \n",
    "print(hangman('hangman', 10))"
   ]
  }
 ],
 "metadata": {
  "kernelspec": {
   "display_name": "Python 3",
   "language": "python",
   "name": "python3"
  },
  "language_info": {
   "codemirror_mode": {
    "name": "ipython",
    "version": 3
   },
   "file_extension": ".py",
   "mimetype": "text/x-python",
   "name": "python",
   "nbconvert_exporter": "python",
   "pygments_lexer": "ipython3",
   "version": "3.7.2"
  }
 },
 "nbformat": 4,
 "nbformat_minor": 2
}
